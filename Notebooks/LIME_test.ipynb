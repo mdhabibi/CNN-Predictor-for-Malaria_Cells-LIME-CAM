{
  "cells": [
    {
      "cell_type": "markdown",
      "metadata": {},
      "source": [
        "<h1 align=\"center\"><b>Interpreting CNN Predictions in Malaria Cell Classification using LIME</b></h1>\n",
        "\n",
        "<h3 align=\"center\">Developing a Locally Interpretable Model to Demystify CNN Decision-Making in Malaria Image Classification</h3>\n",
        "\n",
        "\n",
        "---\n",
        "---\n",
        "## Table of Contents\n",
        "\n",
        "1. [Introduction](#Introduction)\n",
        "2. [Loading Pre-Trained Malaria-CNN-Classifier Model](#Loading-Pre-Trained-Malaria-CNN-Classifier-Model)\n",
        "3. [Loading and Preprocessing One Classified Image by CNN](#Loading-and-Preprocessing-One-Classified-Image-by-CNN)\n",
        "4. [Verifying the Model's Prediction on the Selected Image](#Verifying-the-Model's-Prediction-on-the-Selected-Image)\n",
        "5. [Explaining Predictions with LIME](#Explaining-Predictions-with-LIME)\n",
        "   - 5.1 [Generating Perturbations in the Image](#Step-1:-Generating-Perturbations-in-the-Image)\n",
        "      - 5.1.1 [Superpixel Segmentation Using Quickshift Algorithm](#1.1.-Superpixel-Segmentation-Using-Quickshift-Algorithm)\n",
        "      - 5.1.2 [Generating Random Perturbations](#1.2.-Generating-Random-Perturbations)\n",
        "      - 5.1.3 [Apply the Perturbation to the Image and Display](#1.3.-Apply-the-Perturbation-to-the-Image-and-Display)\n",
        "   - 5.2 [Predicting Outcomes for Perturbed Images with the CNN Malaria Classifier](#Step-2:-Predicting-Outcomes-for-Perturbed-Images-with-the-CNN-Malaria-Classifier)\n",
        "   - 5.3 [Calculating Distances and Assigning Weights to Perturbations](#Step-3:-Calculating-Distances-and-Assigning-Weights-to-Perturbations)\n",
        "      - 5.3.1 [Computing Cosine Distances Between Perturbations and the Original Image](#3.1.-Computing-Cosine-Distances-Between-Perturbations-and-the-Original-Image)\n",
        "      - 5.3.2 [Applying a Kernel Function to Compute Weights](#3.2.-Applying-a-Kernel-Function-to-Compute-Weights)\n",
        "   - 5.4 [Constructing an Interpretable Linear Model](#Step-4:-Constructing-an-Interpretable-Linear-Model)\n",
        "      - 5.4.1 [Constructing-the-Explainable-Model](#4.1.-Constructing-the-Explainable-Model)\n",
        "   - 5.5 [Extracting Insights from the Linear Model](#Step-5:-Extracting-Insights-from-the-Linear-Model)\n",
        "      - 5.5.1 [Isolating Influential Superpixels](#5.1.-Isolating-Influential-Superpixels)\n",
        "      - 5.5.2 [Visualizing the LIME Explanation: Highlighting Key Features](#5.2.-Visualizing-the-LIME-Explanation:-Highlighting-Key-Features)\n",
        "\n",
        "\n",
        "---\n",
        "---"
      ]
    },
    {
      "cell_type": "markdown",
      "metadata": {},
      "source": [
        "## Introduction\n",
        "\n",
        "In this analytical notebook, we delve into the intriguing domain of model interpretability, utilizing the **Local Interpretable Model-agnostic Explanations (LIME)** framework. This approach is inspired by the pioneering work of Ribeiro et al. (2016), as presented in their insightful paper ([Ribeiro et. al. 2016](https://arxiv.org/abs/1602.04938)). **LIME** stands out as a robust tool for demystifying the decision-making processes of complex machine learning models.\n",
        "\n",
        "Our primary objective is to explore the '**why**' behind the predictions of our CNN model. By implementing **LIME**, we aim to uncover specific features and patterns within malaria cell images that influence the classifier's decision-making, particularly in distinguishing between '**infected**' and '**uninfected**' cells. This exploration not only aids in validating our model's performance but also enhances our understanding of its predictive behavior, thereby contributing to more transparent and trustworthy AI solutions in medical diagnostics.\n",
        "\n",
        "---\n",
        "---"
      ]
    },
    {
      "cell_type": "markdown",
      "metadata": {
        "id": "JvUcphNbZEWI"
      },
      "source": [
        "## Loading Pre-Trained Malaria-CNN-Classifier Model"
      ]
    },
    {
      "cell_type": "code",
      "execution_count": null,
      "metadata": {},
      "outputs": [],
      "source": [
        "# Extend system path to include 'Scripts' and 'Utilities' directories for module imports\n",
        "import sys\n",
        "sys.path.extend(['../Scripts', '../Utilities'])\n",
        "\n",
        "# Import required libraries\n",
        "from import_libraries import get_data_handling_and_viz_libs, get_lime_related_libs\n",
        "\n",
        "np, plt, sns, cv2 = get_data_handling_and_viz_libs()\n",
        "skimage, sklearn, LinearRegression, warnings, load_model = get_lime_related_libs()\n",
        "\n",
        "np.random.seed(222)"
      ]
    },
    {
      "cell_type": "code",
      "execution_count": 2,
      "metadata": {},
      "outputs": [
        {
          "name": "stdout",
          "output_type": "stream",
          "text": [
            "Model: \"model\"\n",
            "_________________________________________________________________\n",
            " Layer (type)                Output Shape              Param #   \n",
            "=================================================================\n",
            " input_1 (InputLayer)        [(None, 64, 64, 3)]       0         \n",
            "                                                                 \n",
            " conv2d (Conv2D)             (None, 64, 64, 32)        896       \n",
            "                                                                 \n",
            " conv2d_1 (Conv2D)           (None, 32, 32, 32)        9248      \n",
            "                                                                 \n",
            " batch_normalization (Batch  (None, 32, 32, 32)        128       \n",
            " Normalization)                                                  \n",
            "                                                                 \n",
            " dropout (Dropout)           (None, 32, 32, 32)        0         \n",
            "                                                                 \n",
            " conv2d_2 (Conv2D)           (None, 32, 32, 32)        9248      \n",
            "                                                                 \n",
            " conv2d_3 (Conv2D)           (None, 16, 16, 32)        9248      \n",
            "                                                                 \n",
            " batch_normalization_1 (Bat  (None, 16, 16, 32)        128       \n",
            " chNormalization)                                                \n",
            "                                                                 \n",
            " dropout_1 (Dropout)         (None, 16, 16, 32)        0         \n",
            "                                                                 \n",
            " conv2d_4 (Conv2D)           (None, 16, 16, 64)        18496     \n",
            "                                                                 \n",
            " conv2d_5 (Conv2D)           (None, 8, 8, 64)          36928     \n",
            "                                                                 \n",
            " batch_normalization_2 (Bat  (None, 8, 8, 64)          256       \n",
            " chNormalization)                                                \n",
            "                                                                 \n",
            " dropout_2 (Dropout)         (None, 8, 8, 64)          0         \n",
            "                                                                 \n",
            " conv2d_6 (Conv2D)           (None, 8, 8, 64)          36928     \n",
            "                                                                 \n",
            " conv2d_7 (Conv2D)           (None, 4, 4, 64)          36928     \n",
            "                                                                 \n",
            " batch_normalization_3 (Bat  (None, 4, 4, 64)          256       \n",
            " chNormalization)                                                \n",
            "                                                                 \n",
            " dropout_3 (Dropout)         (None, 4, 4, 64)          0         \n",
            "                                                                 \n",
            " flatten (Flatten)           (None, 1024)              0         \n",
            "                                                                 \n",
            " dense (Dense)               (None, 512)               524800    \n",
            "                                                                 \n",
            " batch_normalization_4 (Bat  (None, 512)               2048      \n",
            " chNormalization)                                                \n",
            "                                                                 \n",
            " dropout_4 (Dropout)         (None, 512)               0         \n",
            "                                                                 \n",
            " dense_1 (Dense)             (None, 256)               131328    \n",
            "                                                                 \n",
            " batch_normalization_5 (Bat  (None, 256)               1024      \n",
            " chNormalization)                                                \n",
            "                                                                 \n",
            " dropout_5 (Dropout)         (None, 256)               0         \n",
            "                                                                 \n",
            " dense_2 (Dense)             (None, 2)                 514       \n",
            "                                                                 \n",
            "=================================================================\n",
            "Total params: 818402 (3.12 MB)\n",
            "Trainable params: 816482 (3.11 MB)\n",
            "Non-trainable params: 1920 (7.50 KB)\n",
            "_________________________________________________________________\n"
          ]
        }
      ],
      "source": [
        "# Path to the saved model\n",
        "pretrained_model_path = '/Models/best_CNN_for_Malaria_classifier.keras'\n",
        "\n",
        "# Load the pre-trained model\n",
        "pretrained_cnn = load_model(pretrained_model_path)\n",
        "\n",
        "# Display the model's architecture\n",
        "pretrained_cnn.summary()"
      ]
    },
    {
      "cell_type": "markdown",
      "metadata": {
        "id": "C5eYkf2qgvF-"
      },
      "source": [
        "---\n",
        "---\n",
        "\n",
        "## Loading and Preprocessing One Classified Image by CNN"
      ]
    },
    {
      "cell_type": "code",
      "execution_count": 20,
      "metadata": {
        "colab": {
          "base_uri": "https://localhost:8080/",
          "height": 315
        },
        "id": "jgIPG0y3djCF",
        "outputId": "b266b045-4e3c-4654-c3bd-d5084a22905c"
      },
      "outputs": [
        {
          "data": {
            "text/plain": [
              "<matplotlib.image.AxesImage at 0x29b84bee0>"
            ]
          },
          "execution_count": 20,
          "metadata": {},
          "output_type": "execute_result"
        },
        {
          "data": {
            "image/png": "[encoded data removed]",
            "text/plain": [
              "<Figure size 640x480 with 1 Axes>"
            ]
          },
          "metadata": {},
          "output_type": "display_data"
        }
      ],
      "source": [
        "# Loading an Image Classified as 'Infected' by the Malaria Classifier\n",
        "image = skimage.io.imread(\"/Images/predicted_sample2.png\")\n",
        "\n",
        "image = image.astype('float32') / 255.\n",
        "\n",
        "# Display the image\n",
        "skimage.io.imshow(image)"
      ]
    },
    {
      "cell_type": "markdown",
      "metadata": {
        "id": "2IB6OOmNmfCf"
      },
      "source": [
        "---\n",
        "---\n",
        "## Verifying the Model's Prediction on the Selected Image\n",
        "\n",
        "In this section, we'll re-evaluate the classification of the image that was previously loaded to confirm its predicted label. Our binary classification model outputs a probability vector with two elements, each representing the likelihood of the image belonging to one of the two classes in the **Malaria Cell Dataset**. This step not only verifies the model's prediction but also provides insight into the confidence levels associated with each classification decision.\n"
      ]
    },
    {
      "cell_type": "code",
      "execution_count": 4,
      "metadata": {},
      "outputs": [
        {
          "name": "stdout",
          "output_type": "stream",
          "text": [
            "1/1 [==============================] - 0s 118ms/step\n",
            "Predicted Classes: [[9.9998319e-01 1.6866348e-05]]\n"
          ]
        }
      ],
      "source": [
        "# Predict the class of the selected image by pre-trained CNN model\n",
        "probability_vector = pretrained_cnn.predict(image[np.newaxis, :, :, :])\n",
        "print(\"Predicted Classes:\", probability_vector)"
      ]
    },
    {
      "cell_type": "code",
      "execution_count": 6,
      "metadata": {},
      "outputs": [
        {
          "name": "stdout",
          "output_type": "stream",
          "text": [
            "Top predicted classes:  [0 1]\n"
          ]
        }
      ],
      "source": [
        "# This snippet selects the top two predictions and is adaptable for multi-class scenarios\n",
        "top_pred_classes = probability_vector[0].argsort()[-2:][::-1]\n",
        "print(\"Top predicted classes: \", top_pred_classes)      "
      ]
    },
    {
      "cell_type": "code",
      "execution_count": 5,
      "metadata": {},
      "outputs": [
        {
          "name": "stdout",
          "output_type": "stream",
          "text": [
            "Predicted Class for the Image: 0\n"
          ]
        }
      ],
      "source": [
        "# Define the class labels for the binary classification task: {0: \"Infected\", 1: \"Uninfected\"}\n",
        "class_labels = [0, 1] \n",
        "\n",
        "# Use np.argmax to find the index of the maximum value in the predictions array.\n",
        "# This index corresponds to the most likely class predicted by the model.\n",
        "predicted_class_indices = np.argmax(probability_vector, axis=1)\n",
        "\n",
        "# Map the predicted index to its corresponding class label.\n",
        "# This step converts the index to an actual class name or number.\n",
        "predicted_classes = [class_labels[i] for i in predicted_class_indices]\n",
        "\n",
        "# Since we only have one image, we access the first element of the predicted_classes list.\n",
        "print(\"Predicted Class for the Image:\", predicted_classes[0])"
      ]
    },
    {
      "cell_type": "markdown",
      "metadata": {
        "id": "owMeom1L-Afp"
      },
      "source": [
        "---\n",
        "---\n",
        "\n",
        "## Explaining Predictions with LIME\n",
        "\n",
        "LIME, or Local Interpretable Model-agnostic Explanations, is a technique developed to demystify the decision-making processes of complex machine learning models. It offers a window into the often opaque 'black box' of models like CNNs by providing interpretable explanations for individual predictions. LIME achieves this by locally approximating the complex model with a simpler, more understandable model. It then uses the characteristics of this simpler model to elucidate how certain features influence the prediction outcome.\n",
        "\n",
        "---"
      ]
    },
    {
      "cell_type": "markdown",
      "metadata": {
        "id": "X_84p1vkjSJa"
      },
      "source": [
        "### Step 1: Generating Perturbations in the Image\n",
        "\n",
        "In LIME, creating perturbations involves selectively activating or deactivating superpixels in an image. Superpixels are clusters of pixels sharing similar attributes, like color or texture, and represent larger, coherent segments of the image. \n",
        "\n",
        "**Note:** Deactivating a superpixel, often referred to as \"turning it off,\" typically means modifying it to become non-informative. This is usually achieved by changing all its pixels to a constant color (e.g., gray), effectively masking that portion of the image and rendering it neutral in the analysis.\n"
      ]
    },
    {
      "cell_type": "markdown",
      "metadata": {
        "id": "u_YCGTxUhc1a"
      },
      "source": [
        "#### 1.1. Superpixel Segmentation Using Quickshift Algorithm\n",
        "\n",
        "For the initial phase of creating perturbations, we use the quickshift segmentation algorithm to divide the image into superpixels. Quickshift is a popular method for image segmentation, efficiently grouping pixels into larger, coherent regions based on color similarity and proximity. These superpixels form the basis for generating perturbations, as they are the elements we'll selectively 'turn on' or 'off' in the subsequent steps.\n"
      ]
    },
    {
      "cell_type": "code",
      "execution_count": 7,
      "metadata": {},
      "outputs": [
        {
          "name": "stdout",
          "output_type": "stream",
          "text": [
            "Number of Superpixels Generated: 89\n"
          ]
        },
        {
          "data": {
            "text/plain": [
              "<matplotlib.image.AxesImage at 0x2960527c0>"
            ]
          },
          "execution_count": 7,
          "metadata": {},
          "output_type": "execute_result"
        },
        {
          "data": {
            "image/png": "[encoded data removed]",
            "text/plain": [
              "<Figure size 640x480 with 1 Axes>"
            ]
          },
          "metadata": {},
          "output_type": "display_data"
        }
      ],
      "source": [
        "# Create superpixels\n",
        "superpixels = skimage.segmentation.quickshift(image, kernel_size=1, max_dist=10, ratio=1.0, channel_axis=-1)\n",
        "\n",
        "# Count the number of unique superpixels\n",
        "num_superpixels = np.unique(superpixels).shape[0]\n",
        "\n",
        "print(f\"Number of Superpixels Generated: {num_superpixels}\")\n",
        "\n",
        "# Mark the boundaries of the superpixels on the image\n",
        "superpixel_boundaries_image = skimage.segmentation.mark_boundaries(image, superpixels)\n",
        "\n",
        "# Display the image with superpixel boundaries\n",
        "skimage.io.imshow(superpixel_boundaries_image)"
      ]
    },
    {
      "cell_type": "markdown",
      "metadata": {
        "id": "1-jXIePU4fjo"
      },
      "source": [
        "#### 1.2. Generating Random Perturbations\n",
        "\n",
        "To explore how different regions (superpixels) of the image influence the model's prediction, we generate a series of random perturbations. Each perturbation is a unique combination of superpixels being active (\"on\") or inactive (\"off\"). An active superpixel is left unchanged, whereas an inactive one is masked or altered. This approach allows us to assess the impact of specific image regions on the classifier's decision-making process."
      ]
    },
    {
      "cell_type": "code",
      "execution_count": 8,
      "metadata": {},
      "outputs": [
        {
          "name": "stdout",
          "output_type": "stream",
          "text": [
            "Example Perturbation: [1 1 1 0 1 1 0 0 1 0 0 0 1 1 1 1 1 0 1 0 1 1 1 0 1 1 1 0 0 0 0 1 1 1 1 0 0\n",
            " 1 1 1 1 1 0 1 0 0 0 0 1 1 1 0 1 0 1 1 0 0 1 0 0 0 1 1 1 0 0 0 1 0 0 1 1 1\n",
            " 0 0 0 0 1 0 1 0 1 1 1 0 0 1 0]\n"
          ]
        }
      ],
      "source": [
        "# Define the number of perturbations\n",
        "num_perturbations = 150  \n",
        "\n",
        "# Generate random perturbations\n",
        "# Each row represents a perturbation and each column corresponds to a superpixel\n",
        "random_perturbations = np.random.binomial(1, 0.5, size=(num_perturbations, num_superpixels))\n",
        "\n",
        "# Display the first perturbation as an example\n",
        "# Each element in this array corresponds to a superpixel in the image.\n",
        "# '1' indicates that the corresponding superpixel is \"on\" (active or unchanged), and '0' indicates that the superpixel is \"off\" (inactive or masked/altered).\n",
        "print(\"Example Perturbation:\", random_perturbations[149])"
      ]
    },
    {
      "cell_type": "markdown",
      "metadata": {
        "id": "u3uBZ2jK4qlI"
      },
      "source": [
        "####  1.3. Apply the Perturbation to the Image and Display"
      ]
    },
    {
      "cell_type": "code",
      "execution_count": 21,
      "metadata": {},
      "outputs": [
        {
          "data": {
            "text/plain": [
              "<matplotlib.image.AxesImage at 0x29c3dbd60>"
            ]
          },
          "execution_count": 21,
          "metadata": {},
          "output_type": "execute_result"
        },
        {
          "data": {
            "image/png": "[encoded data removed]",
            "text/plain": [
              "<Figure size 640x480 with 1 Axes>"
            ]
          },
          "metadata": {},
          "output_type": "display_data"
        }
      ],
      "source": [
        "import copy\n",
        "\n",
        "def apply_perturbation_to_image(image, perturbation, segments):\n",
        "    \"\"\"\n",
        "    Apply a perturbation to an image.\n",
        "\n",
        "    Parameters:\n",
        "    - image: The original image in normalized form.\n",
        "    - random_perturbations: A vector indicating which superpixels to turn on (1) or off (0).\n",
        "    - quickshift_segments: The superpixel segmentation of the image.\n",
        "\n",
        "    Returns:\n",
        "    - A perturbed version of the image.\n",
        "    \"\"\"\n",
        "    # Identify active superpixels from the perturbation vector\n",
        "    active_superpixels = np.where(perturbation == 1)[0]\n",
        "\n",
        "    # Initialize a mask to apply perturbations\n",
        "    perturbation_mask = np.zeros(segments.shape)\n",
        "\n",
        "    # Activate the superpixels in the mask according to the perturbation vector\n",
        "    for active in active_superpixels:\n",
        "        perturbation_mask[segments == active] = 1\n",
        "\n",
        "    # Apply the perturbation mask to the image\n",
        "    perturbed_image = copy.deepcopy(image)\n",
        "\n",
        "    perturbed_image *= perturbation_mask[:, :, np.newaxis]\n",
        "\n",
        "    return perturbed_image\n",
        "\n",
        "\n",
        "# Apply the first perturbation from our matrix to the image\n",
        "perturbed_example_image = apply_perturbation_to_image(image, random_perturbations[0], superpixels)\n",
        "\n",
        "# Display the perturbed image\n",
        "skimage.io.imshow(perturbed_example_image)"
      ]
    },
    {
      "cell_type": "markdown",
      "metadata": {
        "id": "PlfMjZkH5GUT"
      },
      "source": [
        "---\n",
        "\n",
        "### Step 2: Predicting Outcomes for Perturbed Images with the CNN Malaria Classifier\n",
        "\n",
        "In this step, the CNN Malaria Classifier is used to predict outcomes for each perturbed image. By analyzing how these perturbations influence the classifier's predictions, we gain insights into the model's decision-making process. This approach helps us understand the relative importance of different image regions (superpixels) in the model's classification of an image as 'infected' or 'uninfected'."
      ]
    },
    {
      "cell_type": "code",
      "execution_count": 22,
      "metadata": {},
      "outputs": [
        {
          "name": "stdout",
          "output_type": "stream",
          "text": [
            "1/1 [==============================] - 0s 13ms/step\n",
            "1/1 [==============================] - 0s 10ms/step\n",
            "1/1 [==============================] - 0s 10ms/step\n",
            "1/1 [==============================] - 0s 10ms/step\n",
            "1/1 [==============================] - 0s 9ms/step\n",
            "1/1 [==============================] - 0s 10ms/step\n",
            "1/1 [==============================] - 0s 11ms/step\n",
            "1/1 [==============================] - 0s 10ms/step\n",
            "1/1 [==============================] - 0s 10ms/step\n",
            "1/1 [==============================] - 0s 10ms/step\n",
            "1/1 [==============================] - 0s 10ms/step\n",
            "1/1 [==============================] - 0s 10ms/step\n",
            "1/1 [==============================] - 0s 10ms/step\n",
            "1/1 [==============================] - 0s 10ms/step\n",
            "1/1 [==============================] - 0s 10ms/step\n",
            "1/1 [==============================] - 0s 10ms/step\n",
            "1/1 [==============================] - 0s 9ms/step\n",
            "1/1 [==============================] - 0s 9ms/step\n",
            "1/1 [==============================] - 0s 10ms/step\n",
            "1/1 [==============================] - 0s 10ms/step\n",
            "1/1 [==============================] - 0s 10ms/step\n",
            "1/1 [==============================] - 0s 10ms/step\n",
            "1/1 [==============================] - 0s 10ms/step\n",
            "1/1 [==============================] - 0s 10ms/step\n",
            "1/1 [==============================] - 0s 10ms/step\n",
            "1/1 [==============================] - 0s 10ms/step\n",
            "1/1 [==============================] - 0s 10ms/step\n",
            "1/1 [==============================] - 0s 9ms/step\n",
            "1/1 [==============================] - 0s 10ms/step\n",
            "1/1 [==============================] - 0s 9ms/step\n",
            "1/1 [==============================] - 0s 10ms/step\n",
            "1/1 [==============================] - 0s 10ms/step\n",
            "1/1 [==============================] - 0s 9ms/step\n",
            "1/1 [==============================] - 0s 9ms/step\n",
            "1/1 [==============================] - 0s 10ms/step\n",
            "1/1 [==============================] - 0s 9ms/step\n",
            "1/1 [==============================] - 0s 14ms/step\n",
            "1/1 [==============================] - 0s 10ms/step\n",
            "1/1 [==============================] - 0s 10ms/step\n",
            "1/1 [==============================] - 0s 11ms/step\n",
            "1/1 [==============================] - 0s 10ms/step\n",
            "1/1 [==============================] - 0s 10ms/step\n",
            "1/1 [==============================] - 0s 9ms/step\n",
            "1/1 [==============================] - 0s 10ms/step\n",
            "1/1 [==============================] - 0s 10ms/step\n",
            "1/1 [==============================] - 0s 10ms/step\n",
            "1/1 [==============================] - 0s 9ms/step\n",
            "1/1 [==============================] - 0s 10ms/step\n",
            "1/1 [==============================] - 0s 9ms/step\n",
            "1/1 [==============================] - 0s 10ms/step\n",
            "1/1 [==============================] - 0s 10ms/step\n",
            "1/1 [==============================] - 0s 10ms/step\n",
            "1/1 [==============================] - 0s 9ms/step\n",
            "1/1 [==============================] - 0s 9ms/step\n",
            "1/1 [==============================] - 0s 9ms/step\n",
            "1/1 [==============================] - 0s 9ms/step\n",
            "1/1 [==============================] - 0s 10ms/step\n",
            "1/1 [==============================] - 0s 9ms/step\n",
            "1/1 [==============================] - 0s 10ms/step\n",
            "1/1 [==============================] - 0s 10ms/step\n",
            "1/1 [==============================] - 0s 9ms/step\n",
            "1/1 [==============================] - 0s 10ms/step\n",
            "1/1 [==============================] - 0s 9ms/step\n",
            "1/1 [==============================] - 0s 10ms/step\n",
            "1/1 [==============================] - 0s 9ms/step\n",
            "1/1 [==============================] - 0s 10ms/step\n",
            "1/1 [==============================] - 0s 10ms/step\n",
            "1/1 [==============================] - 0s 10ms/step\n",
            "1/1 [==============================] - 0s 10ms/step\n",
            "1/1 [==============================] - 0s 10ms/step\n",
            "1/1 [==============================] - 0s 9ms/step\n",
            "1/1 [==============================] - 0s 10ms/step\n",
            "1/1 [==============================] - 0s 9ms/step\n",
            "1/1 [==============================] - 0s 11ms/step\n",
            "1/1 [==============================] - 0s 10ms/step\n",
            "1/1 [==============================] - 0s 9ms/step\n",
            "1/1 [==============================] - 0s 9ms/step\n",
            "1/1 [==============================] - 0s 9ms/step\n",
            "1/1 [==============================] - 0s 10ms/step\n",
            "1/1 [==============================] - 0s 9ms/step\n",
            "1/1 [==============================] - 0s 10ms/step\n",
            "1/1 [==============================] - 0s 9ms/step\n",
            "1/1 [==============================] - 0s 9ms/step\n",
            "1/1 [==============================] - 0s 9ms/step\n",
            "1/1 [==============================] - 0s 10ms/step\n",
            "1/1 [==============================] - 0s 9ms/step\n",
            "1/1 [==============================] - 0s 9ms/step\n",
            "1/1 [==============================] - 0s 9ms/step\n",
            "1/1 [==============================] - 0s 10ms/step\n",
            "1/1 [==============================] - 0s 9ms/step\n",
            "1/1 [==============================] - 0s 10ms/step\n",
            "1/1 [==============================] - 0s 9ms/step\n",
            "1/1 [==============================] - 0s 10ms/step\n",
            "1/1 [==============================] - 0s 10ms/step\n",
            "1/1 [==============================] - 0s 10ms/step\n",
            "1/1 [==============================] - 0s 9ms/step\n",
            "1/1 [==============================] - 0s 10ms/step\n",
            "1/1 [==============================] - 0s 10ms/step\n",
            "1/1 [==============================] - 0s 10ms/step\n",
            "1/1 [==============================] - 0s 9ms/step\n",
            "1/1 [==============================] - 0s 10ms/step\n",
            "1/1 [==============================] - 0s 10ms/step\n",
            "1/1 [==============================] - 0s 10ms/step\n",
            "1/1 [==============================] - 0s 9ms/step\n",
            "1/1 [==============================] - 0s 10ms/step\n",
            "1/1 [==============================] - 0s 9ms/step\n",
            "1/1 [==============================] - 0s 10ms/step\n",
            "1/1 [==============================] - 0s 10ms/step\n",
            "1/1 [==============================] - 0s 10ms/step\n",
            "1/1 [==============================] - 0s 10ms/step\n",
            "1/1 [==============================] - 0s 10ms/step\n",
            "1/1 [==============================] - 0s 9ms/step\n",
            "1/1 [==============================] - 0s 9ms/step\n",
            "1/1 [==============================] - 0s 9ms/step\n",
            "1/1 [==============================] - 0s 10ms/step\n",
            "1/1 [==============================] - 0s 10ms/step\n",
            "1/1 [==============================] - 0s 10ms/step\n",
            "1/1 [==============================] - 0s 9ms/step\n",
            "1/1 [==============================] - 0s 9ms/step\n",
            "1/1 [==============================] - 0s 9ms/step\n",
            "1/1 [==============================] - 0s 13ms/step\n",
            "1/1 [==============================] - 0s 10ms/step\n",
            "1/1 [==============================] - 0s 10ms/step\n",
            "1/1 [==============================] - 0s 10ms/step\n",
            "1/1 [==============================] - 0s 9ms/step\n",
            "1/1 [==============================] - 0s 9ms/step\n",
            "1/1 [==============================] - 0s 14ms/step\n",
            "1/1 [==============================] - 0s 10ms/step\n",
            "1/1 [==============================] - 0s 9ms/step\n",
            "1/1 [==============================] - 0s 9ms/step\n",
            "1/1 [==============================] - 0s 10ms/step\n",
            "1/1 [==============================] - 0s 9ms/step\n",
            "1/1 [==============================] - 0s 10ms/step\n",
            "1/1 [==============================] - 0s 10ms/step\n",
            "1/1 [==============================] - 0s 9ms/step\n",
            "1/1 [==============================] - 0s 9ms/step\n",
            "1/1 [==============================] - 0s 10ms/step\n",
            "1/1 [==============================] - 0s 9ms/step\n",
            "1/1 [==============================] - 0s 9ms/step\n",
            "1/1 [==============================] - 0s 10ms/step\n",
            "1/1 [==============================] - 0s 18ms/step\n",
            "1/1 [==============================] - 0s 15ms/step\n",
            "1/1 [==============================] - 0s 13ms/step\n",
            "1/1 [==============================] - 0s 10ms/step\n",
            "1/1 [==============================] - 0s 9ms/step\n",
            "1/1 [==============================] - 0s 10ms/step\n",
            "1/1 [==============================] - 0s 9ms/step\n",
            "1/1 [==============================] - 0s 9ms/step\n",
            "1/1 [==============================] - 0s 9ms/step\n",
            "1/1 [==============================] - 0s 10ms/step\n"
          ]
        }
      ],
      "source": [
        "# Initialize a list to store the predictions for each perturbed image\n",
        "perturbation_predictions = []\n",
        "\n",
        "# Iterate over each perturbation\n",
        "for perturbation in random_perturbations:\n",
        "    # Apply the current perturbation to the image\n",
        "    perturbed_img = apply_perturbation_to_image(image, perturbation, superpixels)\n",
        "\n",
        "    # Predict the class probabilities using the pretrained CNN model\n",
        "    model_prediction = pretrained_cnn.predict(perturbed_img[np.newaxis, :, :, :])\n",
        "    perturbation_predictions.append(model_prediction)\n",
        "\n",
        "# Convert the list of predictions into a numpy array for further analysis\n",
        "perturbation_predictions = np.array(perturbation_predictions)"
      ]
    },
    {
      "cell_type": "markdown",
      "metadata": {
        "id": "e9XR8Tkg-FVC"
      },
      "source": [
        "---\n",
        "\n",
        "### Step 3: Calculating Distances and Assigning Weights to Perturbations\n",
        "\n",
        "This step involves quantifying the impact of each perturbation on the classifier's decision-making. We achieve this by calculating the distance between the original image and each of its perturbed versions. Perturbations more similar (closer) to the original image are assigned higher weights, indicating their greater relevance in influencing the classifier’s decision. This weighting reflects the premise that perturbations closely resembling the original image are more informative for understanding the model's behavior."
      ]
    },
    {
      "cell_type": "markdown",
      "metadata": {},
      "source": [
        "#### 3.1. Computing Cosine Distances Between Perturbations and the Original Image\n",
        "\n",
        "To assess the deviation of each perturbation from the original image, I employ the cosine distance metric. This approach quantifies the degree of change introduced by each perturbation, providing a basis for understanding their relative impact on the classifier’s predictions. Cosine distance effectively measures the angular difference between the original and perturbed images, making it a suitable choice for this analysis.\n"
      ]
    },
    {
      "cell_type": "code",
      "execution_count": 23,
      "metadata": {},
      "outputs": [
        {
          "name": "stdout",
          "output_type": "stream",
          "text": [
            "Shape of Cosine Distances Array: (150,)\n"
          ]
        }
      ],
      "source": [
        "# Represent the original image as a perturbation where all superpixels are enabled\n",
        "original_image_rep = np.ones(num_superpixels)[np.newaxis, :]\n",
        "\n",
        "# Calculate cosine distances between each perturbation and the original image representation\n",
        "cosine_distances = sklearn.metrics.pairwise_distances(random_perturbations, original_image_rep, metric='cosine').ravel()\n",
        "print(\"Shape of Cosine Distances Array:\", cosine_distances.shape)\n"
      ]
    },
    {
      "cell_type": "markdown",
      "metadata": {},
      "source": [
        "#### 3.2. Applying a Kernel Function to Compute Weights\n",
        "\n",
        "Following the calculation of cosine distances, these values are then transformed into weights using a kernel function. The choice of kernel width is pivotal here; it defines the extent of the 'locality' considered around our original instance. In the case of cosine distances, which generally vary from 0 to 1, opting for a moderate kernel width is typically effective. This kernel function essentially determines how much influence each perturbed instance has based on its proximity to the original image, with closer instances (smaller distances) receiving higher weights."
      ]
    },
    {
      "cell_type": "code",
      "execution_count": 24,
      "metadata": {},
      "outputs": [
        {
          "name": "stdout",
          "output_type": "stream",
          "text": [
            "Shape of Weights Array: (150,)\n"
          ]
        }
      ],
      "source": [
        "# Define the kernel width\n",
        "kernel_width = 0.9 \n",
        "\n",
        "# Apply the kernel function to convert distances into weights\n",
        "weights = np.sqrt(np.exp(-(cosine_distances ** 2) / kernel_width ** 2))\n",
        "print(\"Shape of Weights Array:\", weights.shape)"
      ]
    },
    {
      "cell_type": "code",
      "execution_count": 15,
      "metadata": {},
      "outputs": [
        {
          "data": {
            "image/png": "[encoded data removed]",
            "text/plain": [
              "<Figure size 1500x300 with 5 Axes>"
            ]
          },
          "metadata": {},
          "output_type": "display_data"
        }
      ],
      "source": [
        "def visualize_perturbations_with_weights(original_image, perturbations, weights, segments, num_samples=5):\n",
        "    \"\"\"\n",
        "    Visualizes a selection of perturbed images with their corresponding weights.\n",
        "\n",
        "    Parameters:\n",
        "    - original_image: The original image.\n",
        "    - perturbations: The matrix of perturbations.\n",
        "    - weights: The array of weights corresponding to each perturbation.\n",
        "    - segments: The superpixel segmentation of the original image.\n",
        "    - num_samples: Number of perturbed images to visualize.\n",
        "    \"\"\"\n",
        "    sample_indices = np.random.choice(perturbations.shape[0], num_samples, replace=False)\n",
        "\n",
        "    plt.figure(figsize=(15, 3))\n",
        "\n",
        "    for i, index in enumerate(sample_indices):\n",
        "        perturbation = perturbations[index]\n",
        "        weight = weights[index]\n",
        "\n",
        "        # Create perturbed image\n",
        "        active_pixels = np.where(perturbation == 1)[0]\n",
        "        perturbed_image = copy.deepcopy(original_image)\n",
        "        for segment_val in np.unique(segments):\n",
        "            if segment_val in active_pixels:\n",
        "                perturbed_image[segments == segment_val] = original_image[segments == segment_val]\n",
        "            else:\n",
        "                perturbed_image[segments == segment_val] = [0, 0, 0]  # Turning off the superpixel\n",
        "\n",
        "        # Display the perturbed image\n",
        "        ax = plt.subplot(1, num_samples, i + 1)\n",
        "        plt.imshow(perturbed_image)\n",
        "        plt.title(f'Weight: {weight:.2f}')\n",
        "        plt.axis('off')\n",
        "\n",
        "    plt.tight_layout()\n",
        "    plt.show()\n",
        "\n",
        "# Example Usage\n",
        "visualize_perturbations_with_weights(image, random_perturbations, weights, superpixels, num_samples=5)\n"
      ]
    },
    {
      "cell_type": "markdown",
      "metadata": {
        "id": "c-0pYQ38VsOW"
      },
      "source": [
        "---\n",
        "### Step 4: Constructing an Interpretable Linear Model\n",
        "\n",
        "The aim of this step is to simplify the complex decision-making of the CNN model using a more interpretable approach. To do this, a weighted linear regression model is fitted. This model takes the perturbations as inputs and the CNN model's predictions as outputs, with the significance of each perturbation (as determined earlier) factored in as weights. Through this process, the linear model serves as a transparent approximation of the CNN, highlighting which features (superpixels) most influence the classification outcome.\n"
      ]
    },
    {
      "cell_type": "markdown",
      "metadata": {},
      "source": [
        "#### 4.1. Constructing the Explainable Model\n",
        "\n",
        "The goal here is to dissect how each superpixel in the image influences the prediction of a specific class. Specifically, we'll focus on explaining the model's prediction for the class deemed most likely by the CNN. This approach will provide a detailed insight into which segments of the image (superpixels) are pivotal in guiding the classifier's decision for this particular class."
      ]
    },
    {
      "cell_type": "code",
      "execution_count": 25,
      "metadata": {
        "colab": {
          "base_uri": "https://localhost:8080/",
          "height": 274
        },
        "id": "vKOkz_Y-WL3u",
        "outputId": "6d9932e3-0a69-42f8-f06d-2b73c028e1f9"
      },
      "outputs": [
        {
          "name": "stdout",
          "output_type": "stream",
          "text": [
            "Superpixel Importance Coefficients: [ 0.01122533 -0.04065817  0.04941215  0.03581746 -0.06572397 -0.04914387\n",
            " -0.02067309  0.07064952  0.01874372 -0.0214202   0.03823409 -0.03486525\n",
            "  0.01391353  0.00981889 -0.02112661  0.00331193 -0.06283544 -0.04544322\n",
            " -0.00048707  0.03755395  0.07546116  0.04808492 -0.05780887 -0.03548274\n",
            "  0.00697307  0.01796999  0.0228202  -0.00570348 -0.00328914 -0.01935521\n",
            " -0.01615624  0.03090794 -0.0084569  -0.03845731  0.01920723  0.04038228\n",
            " -0.02502178 -0.09231326  0.00752388  0.00085497  0.00932667 -0.06847315\n",
            " -0.07592063  0.06039958 -0.01404342 -0.01231678  0.02209104 -0.01106526\n",
            " -0.02503289 -0.03050027 -0.04209394 -0.01326412  0.09246757  0.0246864\n",
            "  0.04536229  0.02493507  0.06580762  0.0646476   0.11696967  0.04176777\n",
            " -0.00193512  0.05366553 -0.02147041 -0.03768662  0.01912089  0.01293617\n",
            " -0.0201028  -0.08186993  0.05568727  0.0516112   0.26945774  0.11415031\n",
            " -0.010587    0.02309339  0.45291943  0.0441952   0.00354108  0.04678318\n",
            "  0.00966238  0.0401578   0.06364162  0.01052087  0.01720012  0.07564661\n",
            "  0.10282073  0.06673587  0.09223444  0.08084857  0.02461202]\n"
          ]
        }
      ],
      "source": [
        "# Identify the class to explain based on the predicted label\n",
        "target_class = top_pred_classes[0]\n",
        "\n",
        "# Initialize a linear regression model as an explainable model\n",
        "explainable_model = LinearRegression()\n",
        "\n",
        "# Fit the model using the perturbations as features, the predictions for the class to explain as the target,\n",
        "# and the weights as sample weights to emphasize important perturbations\n",
        "explainable_model.fit(X=random_perturbations, y=perturbation_predictions[:,:,target_class], sample_weight=weights)\n",
        "\n",
        "# Extract the coefficients of the linear model\n",
        "# Each coefficient corresponds to the influence of a superpixel\n",
        "importance_coefficients = explainable_model.coef_[0]\n",
        "\n",
        "# Print the coefficients to understand the importance of each superpixel\n",
        "print(\"Superpixel Importance Coefficients:\", importance_coefficients)\n"
      ]
    },
    {
      "cell_type": "markdown",
      "metadata": {
        "id": "k9EKcFDai5_l"
      },
      "source": [
        "---\n",
        "\n",
        "### Step 5: Extracting Insights from the Linear Model\n",
        "\n",
        "In this essential final phase of our LIME analysis, we turn our attention to interpreting the outcomes offered by our simpler, interpretable linear model. The focus here is on pinpointing the superpixels — distinct features within our image — that hold significant sway over the model's predictions.\n",
        "\n",
        "Through this process, we aim to unravel the complexities of our CNN model's decision-making. By identifying and understanding the impact of each superpixel, we can gain valuable insights into what drives the model's classifications, shedding light on the 'why' behind its predictions."
      ]
    },
    {
      "cell_type": "markdown",
      "metadata": {},
      "source": [
        "#### 5.1. Isolating Influential Superpixels\n",
        "\n",
        "A pivotal aspect of our interpretative journey involves delving into the coefficients derived from our linear model. These coefficients are more than mere numbers; they represent the degree of influence each superpixel wields over the model's prediction. By meticulously sorting these coefficients, we embark on a quest to unveil the superpixels that play a dominant role in driving the classification decision. This exploration is instrumental in unearthing the critical elements within the image that our model perceives as decisive in distinguishing one class from another.\n"
      ]
    },
    {
      "cell_type": "code",
      "execution_count": 32,
      "metadata": {},
      "outputs": [
        {
          "name": "stdout",
          "output_type": "stream",
          "text": [
            "Top Influential Superpixels: [70 74]\n"
          ]
        }
      ],
      "source": [
        "# Define the number of top features (superpixels) to consider\n",
        "number_of_top_features = 2  \n",
        "\n",
        "# Sort the coefficients to identify the superpixels with the highest influence\n",
        "# The sorting is based on the absolute magnitude of the coefficients\n",
        "top_influential_features = np.argsort(importance_coefficients)[-number_of_top_features:]\n",
        "\n",
        "print(\"Top Influential Superpixels:\", top_influential_features)"
      ]
    },
    {
      "cell_type": "markdown",
      "metadata": {
        "id": "Jg4HjJKDwTon"
      },
      "source": [
        "#### 5.2. Visualizing the LIME Explanation: Highlighting Key Features\n",
        "\n",
        "In this enlightening phase, we endeavor to visually manifest the most influential superpixels, as discerned in the preceding analysis. This involves crafting a compelling image where the pivotal superpixels are prominently featured, while the less consequential ones are subtly obscured. The result is a visual narrative that not only encapsulates the essence of our model's reasoning but also illuminates the specific image segments that pivotally sway its decision-making process.\n"
      ]
    },
    {
      "cell_type": "code",
      "execution_count": 33,
      "metadata": {},
      "outputs": [
        {
          "data": {
            "image/png": "[encoded data removed]",
            "text/plain": [
              "<Figure size 600x600 with 1 Axes>"
            ]
          },
          "metadata": {},
          "output_type": "display_data"
        }
      ],
      "source": [
        "mask = np.zeros(num_superpixels)\n",
        "mask[top_influential_features]= True #Activate top superpixels\n",
        "\n",
        "# Apply the perturbation mask\n",
        "perturbed_image = apply_perturbation_to_image(image, mask, superpixels)\n",
        "\n",
        "# Display the image using matplotlib\n",
        "plt.figure(figsize=(6, 6))  \n",
        "plt.imshow(perturbed_image)\n",
        "plt.axis('on') \n",
        "plt.show()"
      ]
    }
  ],
  "metadata": {
    "colab": {
      "provenance": []
    },
    "kernelspec": {
      "display_name": "Python 3",
      "name": "python3"
    },
    "language_info": {
      "codemirror_mode": {
        "name": "ipython",
        "version": 3
      },
      "file_extension": ".py",
      "mimetype": "text/x-python",
      "name": "python",
      "nbconvert_exporter": "python",
      "pygments_lexer": "ipython3",
      "version": "3.9.6"
    }
  },
  "nbformat": 4,
  "nbformat_minor": 0
}
